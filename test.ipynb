{
 "cells": [
  {
   "cell_type": "code",
   "execution_count": null,
   "metadata": {},
   "outputs": [],
   "source": [
    "import math\n",
    "(8*(math.pi-3))/(3*math.pi*(4-math.pi))\n"
   ]
  },
  {
   "cell_type": "code",
   "execution_count": 1,
   "metadata": {},
   "outputs": [
    {
     "ename": "RuntimeError",
     "evalue": "Failed to compile library: program_source:8:19: error: use of undeclared identifier 'erf'\n  output[index] = erf(input[index]);\n                  ^\n",
     "output_type": "error",
     "traceback": [
      "\u001b[0;31m---------------------------------------------------------------------------\u001b[0m",
      "\u001b[0;31mRuntimeError\u001b[0m                              Traceback (most recent call last)",
      "Cell \u001b[0;32mIn[1], line 3\u001b[0m\n\u001b[1;32m      1\u001b[0m \u001b[39mimport\u001b[39;00m \u001b[39mtorch\u001b[39;00m\n\u001b[1;32m      2\u001b[0m x \u001b[39m=\u001b[39m torch\u001b[39m.\u001b[39mTensor([\u001b[39m2\u001b[39m,\u001b[39m3\u001b[39m,\u001b[39m.99\u001b[39m,\u001b[39m0.5\u001b[39m])\n\u001b[0;32m----> 3\u001b[0m y \u001b[39m=\u001b[39m torch\u001b[39m.\u001b[39;49merfinv(x\u001b[39m.\u001b[39;49mto(\u001b[39m'\u001b[39;49m\u001b[39mmps\u001b[39;49m\u001b[39m'\u001b[39;49m))\n\u001b[1;32m      4\u001b[0m y\n",
      "\u001b[0;31mRuntimeError\u001b[0m: Failed to compile library: program_source:8:19: error: use of undeclared identifier 'erf'\n  output[index] = erf(input[index]);\n                  ^\n"
     ]
    }
   ],
   "source": [
    "import torch\n",
    "x = torch.Tensor([2,3,.99,0.5])\n",
    "y = torch.erfinv(x.to('mps'))\n",
    "y"
   ]
  },
  {
   "cell_type": "code",
   "execution_count": 1,
   "metadata": {},
   "outputs": [
    {
     "name": "stdout",
     "output_type": "stream",
     "text": [
      "tensor([        inf,  3.8325e+00,  4.7694e-01,  2.7246e-01,  1.7914e-01,\n",
      "        -8.8623e-14, -4.2268e-01,  1.0994e+00,  1.0994e+00, -3.8325e+00,\n",
      "               -inf], device='mps:0')\n",
      "tensor([        inf,  3.8325e+00,  4.7694e-01,  2.7246e-01,  1.7914e-01,\n",
      "        -8.8623e-14, -4.2268e-01,  1.0994e+00,  1.0994e+00, -3.8325e+00,\n",
      "               -inf])\n",
      "torch.float32\n"
     ]
    }
   ],
   "source": [
    "import torch\n",
    "x = torch.tensor([1, 0.9999999403953 ,0.5, 0.3, 0.2, -0.0000000000001, -0.45, .880, .880, -0.9999999403953552,-1], dtype=torch.float32)\n",
    "y_mps = torch.erfinv(x.to(\"mps\"))\n",
    "y_cpu = torch.erfinv(x.to(\"cpu\"))\n",
    "print(y_mps)\n",
    "print(y_cpu)\n",
    "print(y_mps.dtype)"
   ]
  },
  {
   "cell_type": "code",
   "execution_count": 2,
   "metadata": {},
   "outputs": [
    {
     "name": "stdout",
     "output_type": "stream",
     "text": [
      "CPU torch.erfinv time:  2.702730720139308\n",
      "MPS torch.erfinv time:  0.009846114047187646\n",
      "MPS torch.erfinv is 27449.719830447135 percent faster than CPU torch.erfinv\n",
      "Done convert x to cpu device\n",
      "Done computing cpu torch.erfinv\n",
      "Done convert x to mps device\n",
      "Done computing mps torch.erfinv\n",
      "computing mask\n",
      "MSE between MPS and CPU torch.erfinv:  tensor(2.6448e-15)\n",
      "Largest difference\n",
      "x:  -0.9999987483024597, y_cpu: -0.8427003026008606, y_mps: -0.8427001237869263 , diff = -1.7881393432617188e-07\n"
     ]
    }
   ],
   "source": [
    "import torch\n",
    "x = torch.arange(-1, 1, 1e-8) # default cpu tensor\n",
    "#measure CPU compute time by calling torch.erfinv\n",
    "time = %timeit -o -q torch.erfinv(x)\n",
    "cpu_time = time.average\n",
    "print(\"CPU torch.erfinv time: \", cpu_time)\n",
    "\n",
    "x = x.to(\"mps\")\n",
    "# measure MPS compute time\n",
    "time = %timeit -o -q  torch.erfinv(x)\n",
    "mps_time = time.average\n",
    "print(\"MPS torch.erfinv time: \", mps_time)\n",
    "print(f\"MPS torch.erfinv is {cpu_time/mps_time*100} percent faster than CPU torch.erfinv\")\n",
    "\n",
    "# compute MSE between MPS and CPU torch.erfinv\n",
    "x = x.to(\"cpu\")\n",
    "print(\"Done convert x to cpu device\")\n",
    "y_cpu = torch.erf(x)\n",
    "print(\"Done computing cpu torch.erfinv\")\n",
    "x = x.to(\"mps\")\n",
    "print(\"Done convert x to mps device\")\n",
    "y_mps = torch.erf(x)\n",
    "print(\"Done computing mps torch.erfinv\")\n",
    "\n",
    "y_mps = y_mps.to(\"cpu\")\n",
    "print(\"computing mask\")\n",
    "mask = torch.isfinite(y_cpu) & torch.isfinite(y_mps.to(\"cpu\"))\n",
    "y_mps = y_mps[mask]\n",
    "y_cpu = y_cpu[mask]\n",
    "x = x[mask]\n",
    "print\n",
    "mse = torch.square(y_cpu - y_mps).mean()\n",
    "print(\"MSE between MPS and CPU torch.erfinv: \", mse)\n",
    "diff = torch.abs(y_cpu - y_mps)\n",
    "\n",
    "print(\"Largest difference\")\n",
    "print(f\"x:  {x[torch.argmax(diff)]}, y_cpu: {y_cpu[torch.argmax(diff)]}, y_mps: {y_mps[torch.argmax(diff)]} , diff = {y_cpu[torch.argmax(diff)] - y_mps[torch.argmax(diff)]}\")\n",
    "\n"
   ]
  },
  {
   "attachments": {},
   "cell_type": "markdown",
   "metadata": {},
   "source": [
    "```\n",
    "CPU torch.erfinv time:  2.646950892857473\n",
    "MPS torch.erfinv time:  0.13262139940000323\n",
    "MPS torch.erfinv is 1995.8701271684884 percent faster than CPU torch.erfinv\n",
    "Done convert x to cpu device\n",
    "Done computing cpu torch.erfinv\n",
    "Done convert x to mps device\n",
    "Done computing mps torch.erfinv\n",
    "```"
   ]
  },
  {
   "cell_type": "code",
   "execution_count": 2,
   "metadata": {},
   "outputs": [],
   "source": [
    "import numpy as np\n",
    "\n",
    "def calc_erfinv(y):\n",
    "    # a = np.array([0.886226899, -1.645349621, 0.914624893, -0.140543331])\n",
    "    # b = np.array([-2.118377725, 1.442710462, -0.329097515, 0.012229801])\n",
    "    # c = np.array([-1.970840454, -1.624906493, 3.429567803, 1.641345311])\n",
    "    # d = np.array([3.543889200, 1.637067800])\n",
    "    # CENTRAL_RANGE = 0.7\n",
    "\n",
    "    # y_abs = np.abs(y)\n",
    "    # if y_abs > 1.0: \n",
    "    #     return np.nan\n",
    "    # if y_abs == 1.0: \n",
    "    #     return np.sign(y) * np.inf\n",
    "    # if y_abs <= CENTRAL_RANGE:\n",
    "    #     z = y * y\n",
    "    #     num = (((a[3]*z + a[2])*z + a[1])*z + a[0])\n",
    "    #     dem = ((((b[3]*z + b[2])*z + b[1])*z + b[0]) * z + 1.0)\n",
    "    #     x = y * num / dem\n",
    "    # else:\n",
    "    #     print(\"going to else statement\")\n",
    "    #     z = np.sqrt(-np.log((1.0 - y_abs) / 2.0))\n",
    "    #     num = ((c[3]*z + c[2])*z + c[1]) * z + c[0]\n",
    "    #     dem = (d[1]*z + d[0])*z + 1.0\n",
    "    #     x = np.sign(y) * num / dem\n",
    "    \n",
    "    # before_newton = x\n",
    "    #y = 0.79\n",
    "    x = 0.8219115\n",
    "    print(f\"initial x:{x}, y:{y}\")\n",
    "    before_newton = x\n",
    "    # Two steps of Newton-Raphson correction \n",
    "    print(\"erf(x)\", np.math.erf(x))\n",
    "    print(\"erf(x) - y\",(np.math.erf(x) - y))\n",
    "    for _ in range(1):\n",
    "        x = x - (np.math.erf(x) - y) / ((2.0 / np.sqrt(np.pi)) * np.exp(-x*x))\n",
    "\n",
    "    print(\"diff between before and after newton\", x - before_newton)\n",
    "    return x\n"
   ]
  },
  {
   "cell_type": "code",
   "execution_count": 4,
   "metadata": {},
   "outputs": [
    {
     "name": "stdout",
     "output_type": "stream",
     "text": [
      "initial x:0.8219115, y:[0.75491]\n",
      "erf(x) 0.7549100823820893\n",
      "erf(x) - y [1.1920929e-07]\n",
      "diff between before and after newton [-1.7881393e-07]\n"
     ]
    },
    {
     "data": {
      "text/plain": [
       "array([0.82191133], dtype=float32)"
      ]
     },
     "execution_count": 4,
     "metadata": {},
     "output_type": "execute_result"
    }
   ],
   "source": [
    "# create dtype = np.float32\n",
    "calc_erfinv(np.array([0.75491], dtype=np.float32))"
   ]
  },
  {
   "cell_type": "code",
   "execution_count": 1,
   "metadata": {},
   "outputs": [
    {
     "data": {
      "text/plain": [
       "tensor([0.8219], device='mps:0')"
      ]
     },
     "execution_count": 1,
     "metadata": {},
     "output_type": "execute_result"
    }
   ],
   "source": [
    "import torch\n",
    "x = torch.tensor([0.75491], dtype=torch.float32)\n",
    "y = torch.erfinv(x.to('mps'))\n",
    "y\n"
   ]
  },
  {
   "cell_type": "code",
   "execution_count": 6,
   "metadata": {},
   "outputs": [
    {
     "data": {
      "text/plain": [
       "array([-5.9604645e-08], dtype=float32)"
      ]
     },
     "execution_count": 6,
     "metadata": {},
     "output_type": "execute_result"
    }
   ],
   "source": [
    "y.to('cpu').numpy() - np.array([0.7900000914423133], dtype=np.float32)"
   ]
  },
  {
   "cell_type": "code",
   "execution_count": 7,
   "metadata": {},
   "outputs": [
    {
     "name": "stdout",
     "output_type": "stream",
     "text": [
      "tensor([0.7143, 0.7361], device='mps:0')\n",
      "tensor([0.7143, 0.7361])\n",
      "[5.9604645e-08 5.9604645e-08]\n"
     ]
    }
   ],
   "source": [
    "x2 = torch.tensor([0.75491, 0.7900000144423], dtype=torch.float32)\n",
    "print(torch.erf(x2.to('mps')))\n",
    "print(torch.erf(x2.to('cpu')))\n",
    "print(torch.erf(x2.to('mps')).to('cpu').numpy() - torch.erf(x2.to('cpu')).numpy())"
   ]
  },
  {
   "cell_type": "code",
   "execution_count": 3,
   "metadata": {},
   "outputs": [
    {
     "data": {
      "text/plain": [
       "tensor([0.3679, 0.3679, 0.7788, 0.9139, 0.9608, 1.0000, 0.8167, 0.4610, 0.4610,\n",
       "        0.3679, 0.3679])"
      ]
     },
     "execution_count": 3,
     "metadata": {},
     "output_type": "execute_result"
    }
   ],
   "source": [
    "torch.exp(-x**2)"
   ]
  },
  {
   "cell_type": "code",
   "execution_count": 5,
   "metadata": {},
   "outputs": [
    {
     "data": {
      "text/plain": [
       "tensor([0., 0., 0., 0., 0., 0., 0., 0., 0., 0., 0.])"
      ]
     },
     "execution_count": 5,
     "metadata": {},
     "output_type": "execute_result"
    }
   ],
   "source": [
    "torch.erf(x) - torch.erf(x.to('cpu'))"
   ]
  },
  {
   "cell_type": "code",
   "execution_count": 1,
   "metadata": {},
   "outputs": [
    {
     "ename": "NameError",
     "evalue": "name 'torch' is not defined",
     "output_type": "error",
     "traceback": [
      "\u001b[0;31m---------------------------------------------------------------------------\u001b[0m",
      "\u001b[0;31mNameError\u001b[0m                                 Traceback (most recent call last)",
      "Cell \u001b[0;32mIn[1], line 3\u001b[0m\n\u001b[1;32m      1\u001b[0m \u001b[39mimport\u001b[39;00m \u001b[39mmatplotlib\u001b[39;00m\u001b[39m.\u001b[39;00m\u001b[39mpyplot\u001b[39;00m \u001b[39mas\u001b[39;00m \u001b[39mplt\u001b[39;00m\n\u001b[1;32m      2\u001b[0m \u001b[39m# plot y_mps and x\u001b[39;00m\n\u001b[0;32m----> 3\u001b[0m x \u001b[39m=\u001b[39m torch\u001b[39m.\u001b[39marange(\u001b[39m-\u001b[39m\u001b[39m1\u001b[39m, \u001b[39m1\u001b[39m, \u001b[39m0.000001\u001b[39m)\n\u001b[1;32m      4\u001b[0m x \u001b[39m=\u001b[39m x\u001b[39m.\u001b[39mto(\u001b[39m\"\u001b[39m\u001b[39mmps\u001b[39m\u001b[39m\"\u001b[39m)\n\u001b[1;32m      5\u001b[0m y_mps \u001b[39m=\u001b[39m torch\u001b[39m.\u001b[39merfinv(x)\n",
      "\u001b[0;31mNameError\u001b[0m: name 'torch' is not defined"
     ]
    }
   ],
   "source": [
    "import matplotlib.pyplot as plt\n",
    "# plot y_mps and x\n",
    "x = torch.arange(-1, 1, 0.000001)\n",
    "x = x.to(\"mps\")\n",
    "y_mps = torch.erfinv(x)\n",
    "plt.plot(x.to(\"cpu\"), y_mps.to(\"cpu\"))\n",
    "plt.xlabel(\"x\")\n",
    "plt.ylabel(\"y\")\n",
    "plt.title(\"y = torch.erfinv(x)\")\n",
    "plt.show()"
   ]
  },
  {
   "cell_type": "code",
   "execution_count": null,
   "metadata": {},
   "outputs": [],
   "source": [
    "import torch\n",
    "shape = (1,10)\n",
    "#cpu_x = torch.randint(0, 2, shape, device='cpu', dtype=torch.int32, requires_grad=False)\n",
    "# create cpu_x as a dtype of int16\n",
    "cpu_x = torch.randfloat(0, 1.0, shape, device='cpu', dtype=torch.float32, requires_grad=False)\n",
    "#cpu_x = torch.Tensor\n",
    "\n",
    "mps_x = cpu_x.to('mps')\n",
    "\n",
    "cpu_y = torch.erfinv(cpu_x)\n",
    "mps_y = torch.erfinv(mps_x)\n",
    "\n",
    "#print(\"MSE between MPS and CPU torch.erfinv: \", torch.square(cpu_y - mps_y.to('cpu')).mean())\n",
    "mps_y\n"
   ]
  },
  {
   "cell_type": "code",
   "execution_count": null,
   "metadata": {},
   "outputs": [],
   "source": [
    "import plotly.express as px\n",
    "\n",
    "fig = px.line(x=x.cpu(), y=y_metal.cpu(), title=\"erfinv(x) on MPS device\")\n",
    "\n",
    "# show graph\n",
    "fig.show()"
   ]
  },
  {
   "cell_type": "code",
   "execution_count": null,
   "metadata": {},
   "outputs": [],
   "source": [
    "    def test_unary_ops():\n",
    "        def helper(shape, op):\n",
    "            for dtypef in [torch.float32]:\n",
    "                cpu_x = torch.randn(shape, device='cpu', dtype=dtypef, requires_grad=False)\n",
    "                mps_x = cpu_x.detach().clone().to('mps')\n",
    "                self.assertEqual(op(cpu_x), op(mps_x))\n",
    "\n",
    "            for dtypei in [torch.int32, torch.int16]:\n",
    "                cpu_x = torch.randint(0, 1000, shape, device='cpu', dtype=dtypei, requires_grad=False)\n",
    "                mps_x = cpu_x.to('mps')\n",
    "                self.assertEqual(op(cpu_x), op(mps_x), rtol=1e-4, atol=1e-4)\n",
    "        helper((2, 8, 3, 5), torch.erfinv)\n",
    "    \n",
    "    test_unary_ops()"
   ]
  },
  {
   "attachments": {},
   "cell_type": "markdown",
   "metadata": {},
   "source": []
  },
  {
   "cell_type": "code",
   "execution_count": null,
   "metadata": {},
   "outputs": [],
   "source": [
    "no_frac = torch.frac(x)\n",
    "no_frac"
   ]
  }
 ],
 "metadata": {
  "kernelspec": {
   "display_name": "torch_dev",
   "language": "python",
   "name": "python3"
  },
  "language_info": {
   "codemirror_mode": {
    "name": "ipython",
    "version": 3
   },
   "file_extension": ".py",
   "mimetype": "text/x-python",
   "name": "python",
   "nbconvert_exporter": "python",
   "pygments_lexer": "ipython3",
   "version": "3.10.11"
  },
  "orig_nbformat": 4
 },
 "nbformat": 4,
 "nbformat_minor": 2
}
